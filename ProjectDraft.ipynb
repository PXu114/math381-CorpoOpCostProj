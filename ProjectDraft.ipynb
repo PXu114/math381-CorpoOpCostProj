{
 "cells": [
  {
   "cell_type": "markdown",
   "id": "c5d1b0bb",
   "metadata": {},
   "source": [
    "# Mathematical Formulation\n",
    "Suppose the following variables and constants:\n",
    "* Suppose $n$ as the number of staff on the trip.  \n",
    "* Let $g$ be the fuel cost of our van, with the unit of RMB/km. $c_h$ as the hotel room cost for one person per night. $c_s$ as the salary cost for one person per day. $c_v$ as the cost for renting a van per day.  \n",
    "* Let $D$ be the distance matrix. Each entry ($d_{ij}$) is the most recommended route suggested by Baidu Map. Note that $D$ is not necessarily symmetric as the map may suggest different routes when starting city and destination is changed.  \n",
    "* Let $V$ be the set of indices that represent all the cities.  \n",
    "* Suppose binary variable $x_{ij}$ be 1 if route from city $i$ to $j$ is used, 0 otherwise. And $i,j \\in V$.  \n",
    "* Suppose matrix $T$ to have its $ij$-entry ($t_{ij}$) as binary variables indicating whether the estimated time using route from city $i$ to city $j$ exceed 8 hours.  \n",
    "* Also, create $u_i$ for $i\\in V$ where $u_i = $ the order of visit to city $i$.  \n",
    "\n",
    "Using the above variables and constants, we write the following linear optimization problem:  \n",
    "$\\begin{array}{ccc}\n",
    "\\text{minimize} & \\sum_{i,j} [t_{ij}\\cdot n\\cdot(c_s + c_h) + g\\cdot d_{ij} + (t_{ij}+1)\\cdot c_v]x_{ij} & \\\\\n",
    "\\text{subject to} & \\sum_{j,i\\neq j} x_{ij} = 1 & \\forall i \\\\\n",
    " & \\sum_{i,i\\neq j} x_{ij} = 1 & \\forall j \\\\\n",
    " & u_1 = 1 & \\\\\n",
    " & 2 \\leq u_i \\leq n & \\forall 2\\leq i \\leq n \\\\\n",
    " & u_i - u_j + nx_{ij} \\leq n - 1 & \\forall 2\\leq i,j \\leq n \n",
    "\\end{array}$  \n",
    "\n",
    "Below is the code:"
   ]
  },
  {
   "cell_type": "code",
   "execution_count": 1,
   "id": "d0478843",
   "metadata": {},
   "outputs": [],
   "source": [
    "def buildVanModel(n, g, ch, cs, cv, D, T):\n",
    "    from pyscipopt import Model, quicksum\n",
    "    modelVan = Model(\"Travelling Van\")\n",
    "    \n",
    "    N = len(D)\n",
    "    x = {}\n",
    "    u = {}\n",
    "    \n",
    "    for i in range(1, N+1):\n",
    "        u[i] = modelVan.addVar(lb = 1, ub = N, vtype = \"I\", name = \"u(%s)\"%i)\n",
    "        for j in range(1, N+1):\n",
    "            if i != j:\n",
    "                x[i,j] = modelVan.addVar(vtype = \"B\", name = \"x(%s, %s)\"%(i, j))\n",
    "            \n",
    "    for i in range(1, N+1):\n",
    "        modelVan.addCons(quicksum(x[i,j] for j in range(1, N+1) if i != j) == 1, \"Only 1 out at %s\"%i)\n",
    "        modelVan.addCons(quicksum(x[j,i] for j in range(1, N+1) if i != j) == 1, \"Only 1 in at %s\"%i)\n",
    "        \n",
    "    modelVan.addCons(u[1] == 1, \"u(1) = 1\")\n",
    "    for i in range(2, N+1):\n",
    "        modelVan.addCons(2 <= (u[i] <= N), \"Bound for u(%s)\"%i)\n",
    "    \n",
    "    for i in range(2, N+1):\n",
    "        for j in range(2, N+1):\n",
    "            if i != j:\n",
    "                modelVan.addCons(u[i] - u[j] + N*x[i,j] <= N-1, \"Only one loop in graph\")\n",
    "                \n",
    "    modelVan.setObjective(quicksum((T[i][j-1]*n*(cs+ch) + n*cs + g*D[i][j-1] + (T[i][j-1]+1)*cv)*x[i,j] for (i,j) in x), \n",
    "                          \"minimize\")\n",
    "    modelVan.data = x, u\n",
    "    \n",
    "    return modelVan"
   ]
  },
  {
   "cell_type": "code",
   "execution_count": 2,
   "id": "4c8d52c2",
   "metadata": {},
   "outputs": [],
   "source": [
    "n = 2.0\n",
    "g = 0.8\n",
    "ch = 180.0\n",
    "cs = 120.0\n",
    "cv = 780.0\n",
    "Cities = {1:'Jinan', 2:'Jiyangqu', 3:'Yucheng', 4:'Gaotangxian', 5:'Liaocheng', 6:'Yangguxian', 7:'Taian', \n",
    "           8:'Xintai', 9:'Zibo', 10:'Binzhou'}\n",
    "D = {1: [0, 46, 66.7, 102.6, 125.6, 176.8, 74.8, 132.6, 111, 153.3], \n",
    "     2: [45.5, 0, 74.1, 107.6, 135, 192.4, 126.4, 155.3, 110.2, 109], \n",
    "     3: [67.6, 71.3, 0, 41.2, 97.8, 155.2, 109.7, 189.9, 152.1, 176.4], \n",
    "     4: [108.7, 104.9, 41.2, 0, 54.2, 112.1, 146.1, 230.7, 191, 215.4], \n",
    "     5: [125.5, 134.4, 93.5, 54, 0, 45.9, 130.5, 201.4, 215.2, 239.5], \n",
    "     6: [183, 191.8, 155, 111.8, 45.9, 0, 153.2, 224, 270.1, 296.9], \n",
    "     7: [75, 122.8, 119, 172, 130.8, 153.2, 0, 82.8, 156.9, 230], \n",
    "     8: [126.8, 161.8, 189.4, 229.9, 201.7, 223.4, 81.7, 0, 130, 182.3], \n",
    "     9: [112, 119.7, 152.3, 191.2, 211.1, 268.6, 159.2, 126.8, 0, 85.3], \n",
    "     10: [160.5, 99.4, 170.9, 212, 237.8, 295.3, 217.3, 184.3, 80.7, 0]}\n",
    "T = {1: [0, 0, 0, 0, 0, 0, 0, 0, 0, 0], \n",
    "     2: [0, 0, 0, 0, 0, 0, 0, 0, 0, 0], \n",
    "     3: [0, 0, 0, 0, 0, 0, 0, 0, 0, 0], \n",
    "     4: [0, 0, 0, 0, 0, 0, 0, 0, 0, 0], \n",
    "     5: [0, 0, 0, 0, 0, 0, 0, 0, 0, 0], \n",
    "     6: [0, 0, 0, 0, 0, 0, 0, 0, 0, 0], \n",
    "     7: [0, 0, 0, 0, 0, 0, 0, 0, 0, 0], \n",
    "     8: [0, 0, 0, 0, 0, 0, 0, 0, 0, 0], \n",
    "     9: [0, 0, 0, 0, 0, 0, 0, 0, 0, 0], \n",
    "     10: [0, 0, 0, 0, 0, 0, 0, 0, 0, 0]}"
   ]
  },
  {
   "cell_type": "code",
   "execution_count": 3,
   "id": "5070cf04",
   "metadata": {},
   "outputs": [],
   "source": [
    "def reportOnVan(n, g, ch, cs, cv, D, T):\n",
    "    modelVan = buildVanModel(n, g, ch, cs, cv, D, T)\n",
    "    modelVan.optimize()\n",
    "    x, u = modelVan.data\n",
    "    print(\"Minimized cost of transportation: \" + str(modelVan.getObjVal()) + \" RMB\")\n",
    "    print()\n",
    "    \n",
    "    print(\"The cities and their visiting order: \")\n",
    "    for i in range(1, len(D)+1):\n",
    "        print(Cities[i] + \": \" + str(modelVan.getVal(u[i])))"
   ]
  },
  {
   "cell_type": "code",
   "execution_count": 4,
   "id": "4b974b1b",
   "metadata": {},
   "outputs": [
    {
     "name": "stdout",
     "output_type": "stream",
     "text": [
      "Minimized cost of transportation: 10843.36 RMB\n",
      "\n",
      "The cities and their visiting order: \n",
      "Jinan: 1.0\n",
      "Jiyangqu: 10.0\n",
      "Yucheng: 2.0\n",
      "Gaotangxian: 3.0\n",
      "Liaocheng: 4.0\n",
      "Yangguxian: 5.0\n",
      "Taian: 6.0\n",
      "Xintai: 7.0\n",
      "Zibo: 8.0\n",
      "Binzhou: 9.0\n"
     ]
    }
   ],
   "source": [
    "reportOnVan(n, g, ch, cs, cv, D, T)"
   ]
  },
  {
   "cell_type": "code",
   "execution_count": 58,
   "id": "68ad01ec",
   "metadata": {
    "scrolled": true
   },
   "outputs": [
    {
     "name": "stdout",
     "output_type": "stream",
     "text": [
      "Jinan: 1.0\n",
      "Jiyangqu: 10.0\n",
      "Yucheng: 2.0\n",
      "Gaotangxian: 3.0\n",
      "Liaocheng: 4.0\n",
      "Yangguxian: 5.0\n",
      "Taian: 6.0\n",
      "Xintai: 7.0\n",
      "Zibo: 8.0\n",
      "Binzhou: 9.0\n"
     ]
    }
   ],
   "source": []
  },
  {
   "cell_type": "code",
   "execution_count": 5,
   "id": "cdaaefbe",
   "metadata": {},
   "outputs": [
    {
     "ename": "NameError",
     "evalue": "name 'modelVan' is not defined",
     "output_type": "error",
     "traceback": [
      "\u001b[1;31m---------------------------------------------------------------------------\u001b[0m",
      "\u001b[1;31mNameError\u001b[0m                                 Traceback (most recent call last)",
      "\u001b[1;32m<ipython-input-5-3ca2e08959d8>\u001b[0m in \u001b[0;36m<module>\u001b[1;34m\u001b[0m\n\u001b[0;32m      2\u001b[0m     \u001b[1;32mfor\u001b[0m \u001b[0mj\u001b[0m \u001b[1;32min\u001b[0m \u001b[0mrange\u001b[0m\u001b[1;33m(\u001b[0m\u001b[1;36m1\u001b[0m\u001b[1;33m,\u001b[0m \u001b[0mlen\u001b[0m\u001b[1;33m(\u001b[0m\u001b[0mD\u001b[0m\u001b[1;33m)\u001b[0m\u001b[1;33m+\u001b[0m\u001b[1;36m1\u001b[0m\u001b[1;33m)\u001b[0m\u001b[1;33m:\u001b[0m\u001b[1;33m\u001b[0m\u001b[1;33m\u001b[0m\u001b[0m\n\u001b[0;32m      3\u001b[0m         \u001b[1;32mif\u001b[0m \u001b[0mi\u001b[0m \u001b[1;33m!=\u001b[0m \u001b[0mj\u001b[0m\u001b[1;33m:\u001b[0m\u001b[1;33m\u001b[0m\u001b[1;33m\u001b[0m\u001b[0m\n\u001b[1;32m----> 4\u001b[1;33m             \u001b[0mprint\u001b[0m\u001b[1;33m(\u001b[0m\u001b[0mCities\u001b[0m\u001b[1;33m[\u001b[0m\u001b[0mi\u001b[0m\u001b[1;33m]\u001b[0m \u001b[1;33m+\u001b[0m \u001b[1;34m\", \"\u001b[0m \u001b[1;33m+\u001b[0m \u001b[0mCities\u001b[0m\u001b[1;33m[\u001b[0m\u001b[0mj\u001b[0m\u001b[1;33m]\u001b[0m \u001b[1;33m+\u001b[0m \u001b[1;34m\": \"\u001b[0m \u001b[1;33m+\u001b[0m \u001b[0mstr\u001b[0m\u001b[1;33m(\u001b[0m\u001b[0mmodelVan\u001b[0m\u001b[1;33m.\u001b[0m\u001b[0mgetVal\u001b[0m\u001b[1;33m(\u001b[0m\u001b[0mx\u001b[0m\u001b[1;33m[\u001b[0m\u001b[0mi\u001b[0m\u001b[1;33m,\u001b[0m\u001b[0mj\u001b[0m\u001b[1;33m]\u001b[0m\u001b[1;33m)\u001b[0m\u001b[1;33m)\u001b[0m\u001b[1;33m)\u001b[0m\u001b[1;33m\u001b[0m\u001b[1;33m\u001b[0m\u001b[0m\n\u001b[0m",
      "\u001b[1;31mNameError\u001b[0m: name 'modelVan' is not defined"
     ]
    }
   ],
   "source": []
  }
 ],
 "metadata": {
  "kernelspec": {
   "display_name": "Python 3",
   "language": "python",
   "name": "python3"
  },
  "language_info": {
   "codemirror_mode": {
    "name": "ipython",
    "version": 3
   },
   "file_extension": ".py",
   "mimetype": "text/x-python",
   "name": "python",
   "nbconvert_exporter": "python",
   "pygments_lexer": "ipython3",
   "version": "3.8.8"
  }
 },
 "nbformat": 4,
 "nbformat_minor": 5
}
